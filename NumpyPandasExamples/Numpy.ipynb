{
 "cells": [
  {
   "cell_type": "code",
   "execution_count": 33,
   "id": "1c514ffb-981b-4257-ba84-b68445b6dfc9",
   "metadata": {},
   "outputs": [
    {
     "name": "stdout",
     "output_type": "stream",
     "text": [
      "Elementlerin çarpım sonucu: [ 5 12 21 32]\n"
     ]
    }
   ],
   "source": [
    "import numpy as np\n",
    "a = np.array([1, 2, 3, 4])\n",
    "b = np.array([5, 6, 7, 8])\n",
    "result = a * b  \n",
    "print(\"Elementlerin çarpım sonucu:\", result)"
   ]
  },
  {
   "cell_type": "code",
   "execution_count": 35,
   "id": "ae13531a-b555-4021-beda-b1e3c0b3bdd2",
   "metadata": {},
   "outputs": [
    {
     "name": "stdout",
     "output_type": "stream",
     "text": [
      "Ortalama: -0.03\n",
      "Standard Sapma: 0.99\n"
     ]
    }
   ],
   "source": [
    "import numpy as np\n",
    "data = np.random.randn(1000) \n",
    "mean = np.mean(data)\n",
    "std_dev = np.std(data)\n",
    "print(f\"Ortalama: {mean:.2f}\")\n",
    "print(f\"Standard Sapma: {std_dev:.2f}\")"
   ]
  },
  {
   "cell_type": "code",
   "execution_count": 37,
   "id": "3157d25f-9053-48c6-875b-e79125438e24",
   "metadata": {},
   "outputs": [
    {
     "name": "stdout",
     "output_type": "stream",
     "text": [
      "Filtrelenmiş Veri: [40 50 60]\n"
     ]
    }
   ],
   "source": [
    "import numpy as np\n",
    "data = np.array([10, 20, 30, 40, 50, 60])\n",
    "mask = data > 30\n",
    "filtered_data = data[mask]\n",
    "print(\"Filtrelenmiş Veri:\", filtered_data)"
   ]
  },
  {
   "cell_type": "code",
   "execution_count": 39,
   "id": "710d53b8-587f-477e-ac5b-ae3208623639",
   "metadata": {},
   "outputs": [
    {
     "name": "stdout",
     "output_type": "stream",
     "text": [
      "Matrix :\n",
      " [[19 22]\n",
      " [43 50]]\n",
      "matrix1'in determinantı: -2.0000000000000004\n"
     ]
    }
   ],
   "source": [
    "import numpy as np\n",
    "matrix1 = np.array([[1, 2], [3, 4]])\n",
    "matrix2 = np.array([[5, 6], [7, 8]])\n",
    "product = np.dot(matrix1, matrix2)\n",
    "# Determinant hesaplama\n",
    "determinant = np.linalg.det(matrix1)\n",
    "print(\"Matrix :\\n\", product)\n",
    "print(\"matrix1'in determinantı:\", determinant)"
   ]
  },
  {
   "cell_type": "code",
   "execution_count": 31,
   "id": "088de33a-19fa-4d67-bb6a-962a77570c1c",
   "metadata": {},
   "outputs": [
    {
     "data": {
      "image/png": "[encoded data removed]",
      "text/plain": [
       "<Figure size 640x480 with 1 Axes>"
      ]
     },
     "metadata": {},
     "output_type": "display_data"
    }
   ],
   "source": [
    "import numpy as np\n",
    "import matplotlib.pyplot as plt\n",
    "# Sinüs dalgası oluşturma\n",
    "t = np.linspace(0, 1, 500)\n",
    "signal = np.sin(2 * np.pi * 5 * t) + 0.5 * np.sin(2 * np.pi * 20 * t)\n",
    "# Fourier dönüşümü\n",
    "fft_result = np.fft.fft(signal)\n",
    "frequencies = np.fft.fftfreq(len(signal), t[1] - t[0])\n",
    "# Frekans grafiği\n",
    "plt.plot(frequencies, np.abs(fft_result))\n",
    "plt.title('Frekans Alanı')\n",
    "plt.xlabel('Frekans (Hz)')\n",
    "plt.ylabel('Genlik')\n",
    "plt.show()"
   ]
  },
  {
   "cell_type": "code",
   "execution_count": null,
   "id": "60d4953a-3b06-449a-a3eb-f7c6b4c2e565",
   "metadata": {},
   "outputs": [],
   "source": []
  }
 ],
 "metadata": {
  "kernelspec": {
   "display_name": "Python 3 (ipykernel)",
   "language": "python",
   "name": "python3"
  },
  "language_info": {
   "codemirror_mode": {
    "name": "ipython",
    "version": 3
   },
   "file_extension": ".py",
   "mimetype": "text/x-python",
   "name": "python",
   "nbconvert_exporter": "python",
   "pygments_lexer": "ipython3",
   "version": "3.12.4"
  }
 },
 "nbformat": 4,
 "nbformat_minor": 5
}
