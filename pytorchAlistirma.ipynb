{
 "cells": [
  {
   "cell_type": "code",
   "execution_count": 2,
   "id": "97eaa296-e431-4c96-9d18-09eb031b50a2",
   "metadata": {},
   "outputs": [],
   "source": [
    "\n",
    "import torch  #torch:pytorch un ana kütüphanesidir.tensor işlemleri, otomatik türev hesaplamaları, GPU hızlandırmalı işlemler, ve daha pek çok temel işlevi içerir.\n",
    "import torch.nn as nn #torch.nn: PyTorch'un sinir ağları (neural networks) için sağladığı bir modüldür.\n",
    "#Bu modül, katmanlar (layers), aktivasyon fonksiyonları (activation functions), kayıp fonksiyonları (loss functions) gibi çeşitli yapı taşlarını içerir.\n",
    "import torch.optim as optim #torch.optim: PyTorch'un optimizasyon algoritmalarını içeren modülüdür.\n",
    "import torchvision #torchvision:PyTorch için görüntü işleme (image processing) üzerine özel bir kütüphanedir. #torchvision.datasets popüler veri setlerini içerirken\n",
    "#torchvision.models önceden eğitilmiş modelleri içerir.\n",
    "import torchvision.transforms as transforms #torchvision.transforms: torchvision kütüphanesi içinde yer alan ve görüntü dönüşümleri için kullanılan bir modüldür.\n",
    "#Görüntü verileri üzerinde ön işleme (preprocessing) işlemleri yapmak için kullanılır. Örneğin, bir görüntüyü tensora dönüştürmek (transforms.ToTensor())\n",
    "#boyutunu yeniden ayarlamak (transforms.Resize())\n",
    "#veya normalizasyon işlemi yapmak (transforms.Normalize()) gibi işlevler bu modülle gerçekleştirilir."
   ]
  },
  {
   "cell_type": "code",
   "execution_count": 13,
   "id": "d0ec9c55-0a25-4f17-b980-a95dd9c20a5d",
   "metadata": {},
   "outputs": [],
   "source": [
    "transform = transforms.Compose([transforms.ToTensor(), transforms.Normalize((0.5,), (0.5,))])\n",
    "\n",
    "trainset = torchvision.datasets.MNIST(root='./data', train=True, download=True, transform=transform)\n",
    "trainloader = torch.utils.data.DataLoader(trainset, batch_size=32, shuffle=True)\n",
    "\n",
    "testset = torchvision.datasets.MNIST(root='./data', train=False, download=True, transform=transform)\n",
    "testloader = torch.utils.data.DataLoader(testset, batch_size=32, shuffle=False)\n"
   ]
  },
  {
   "cell_type": "code",
   "execution_count": 6,
   "id": "5ccc76fc-b9e6-4e3e-8d8b-17c3f4879066",
   "metadata": {},
   "outputs": [],
   "source": [
    "class Net(nn.Module):\n",
    "    def __init__(self):\n",
    "        super(Net, self).__init__()\n",
    "        self.fc1 = nn.Linear(28 * 28, 128)\n",
    "        self.fc2 = nn.Linear(128, 64)\n",
    "        self.fc3 = nn.Linear(64, 10)\n",
    "\n",
    "    def forward(self, x):\n",
    "        x = x.view(-1, 28 * 28)\n",
    "        x = torch.relu(self.fc1(x))\n",
    "        x = torch.relu(self.fc2(x))\n",
    "        x = self.fc3(x)\n",
    "        return x\n"
   ]
  },
  {
   "cell_type": "code",
   "execution_count": 8,
   "id": "bc4a5cee-3fc0-4e0f-b4da-59328fe24043",
   "metadata": {},
   "outputs": [],
   "source": [
    "net = Net()\n",
    "criterion = nn.CrossEntropyLoss()\n",
    "optimizer = optim.SGD(net.parameters(), lr=0.01)"
   ]
  },
  {
   "cell_type": "code",
   "execution_count": 10,
   "id": "6b8af15f-dbee-4ed2-a10a-c324f0323a43",
   "metadata": {},
   "outputs": [
    {
     "name": "stdout",
     "output_type": "stream",
     "text": [
      "Epoch 1, Loss: 0.24925696849822998\n",
      "Epoch 2, Loss: 0.30711665749549866\n",
      "Epoch 3, Loss: 0.4276195764541626\n",
      "Epoch 4, Loss: 0.4515450894832611\n",
      "Epoch 5, Loss: 0.2625230848789215\n"
     ]
    }
   ],
   "source": [
    "for epoch in range(5):\n",
    "    for inputs, labels in trainloader:\n",
    "        optimizer.zero_grad()\n",
    "        outputs = net(inputs)\n",
    "        loss = criterion(outputs, labels)\n",
    "        loss.backward()\n",
    "        optimizer.step()\n",
    "    print(f'Epoch {epoch+1}, Loss: {loss.item()}')"
   ]
  },
  {
   "cell_type": "code",
   "execution_count": 17,
   "id": "4f112a3a-8b91-4cab-8dab-92bd7c9ce242",
   "metadata": {},
   "outputs": [
    {
     "name": "stdout",
     "output_type": "stream",
     "text": [
      "Test Accuracy: 94.45%\n"
     ]
    }
   ],
   "source": [
    "correct = 0\n",
    "total = 0\n",
    "\n",
    "with torch.no_grad():\n",
    "    for inputs, labels in testloader:\n",
    "        outputs = net(inputs)\n",
    "        _, predicted = torch.max(outputs.data, 1)\n",
    "        total += labels.size(0)\n",
    "        correct += (predicted == labels).sum().item()\n",
    "\n",
    "print(f'Test Accuracy: {100 * correct / total}%')\n"
   ]
  },
  {
   "cell_type": "code",
   "execution_count": 19,
   "id": "73cf5019-951b-4437-a8d1-544fad5d3bab",
   "metadata": {},
   "outputs": [
    {
     "name": "stdout",
     "output_type": "stream",
     "text": [
      "False\n",
      "None\n"
     ]
    }
   ],
   "source": [
    "import torch\n",
    "print(torch.cuda.is_available())\n",
    "print(torch.version.cuda)\n"
   ]
  },
  {
   "cell_type": "code",
   "execution_count": null,
   "id": "68881729-aee7-42c5-aaf6-f33e669fd6d5",
   "metadata": {},
   "outputs": [],
   "source": []
  }
 ],
 "metadata": {
  "kernelspec": {
   "display_name": "Python 3 (ipykernel)",
   "language": "python",
   "name": "python3"
  },
  "language_info": {
   "codemirror_mode": {
    "name": "ipython",
    "version": 3
   },
   "file_extension": ".py",
   "mimetype": "text/x-python",
   "name": "python",
   "nbconvert_exporter": "python",
   "pygments_lexer": "ipython3",
   "version": "3.12.4"
  }
 },
 "nbformat": 4,
 "nbformat_minor": 5
}
