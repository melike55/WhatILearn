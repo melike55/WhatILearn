{
 "cells": [
  {
   "cell_type": "code",
   "execution_count": 1,
   "id": "37502036",
   "metadata": {},
   "outputs": [
    {
     "name": "stdout",
     "output_type": "stream",
     "text": [
      "3.9.13 (main, Aug 25 2022, 23:51:50) [MSC v.1916 64 bit (AMD64)]\n"
     ]
    }
   ],
   "source": [
    "#editörün python sürümünü kontrol etmek için:\n",
    "import sys\n",
    "print(sys.version)"
   ]
  },
  {
   "cell_type": "code",
   "execution_count": 2,
   "id": "e08fecdd",
   "metadata": {},
   "outputs": [
    {
     "name": "stdout",
     "output_type": "stream",
     "text": [
      "Sally\n"
     ]
    }
   ],
   "source": [
    "#Değişkenlerin belirli bir tipte tanımlanmasına gerek yoktur \n",
    "#hatta ayarlandıktan sonra bile tip değiştirebilirler.\n",
    "x=4\n",
    "x=\"Sally\"\n",
    "print(x)"
   ]
  },
  {
   "cell_type": "code",
   "execution_count": 4,
   "id": "c7fa870f",
   "metadata": {},
   "outputs": [
    {
     "name": "stdout",
     "output_type": "stream",
     "text": [
      "3\n",
      "3\n",
      "3.0\n"
     ]
    }
   ],
   "source": [
    "#Bir değişkenin veri tipini belirtmek istiyorsanız bunu dönüşümle yapabilirsiniz.\n",
    "x=str(3)\n",
    "y=int(3)\n",
    "z=float(3)\n",
    "print(x)\n",
    "print(y)\n",
    "print(z)"
   ]
  },
  {
   "cell_type": "code",
   "execution_count": 5,
   "id": "26174c59",
   "metadata": {},
   "outputs": [
    {
     "name": "stdout",
     "output_type": "stream",
     "text": [
      "<class 'int'>\n",
      "<class 'str'>\n"
     ]
    }
   ],
   "source": [
    "#Bir değişkenin veri tipini fonksiyonla alabilirsiniz type().\n",
    "x=5\n",
    "y=\"Melike\"\n",
    "print(type(x))\n",
    "print(type(y))"
   ]
  },
  {
   "cell_type": "code",
   "execution_count": 6,
   "id": "35d57b48",
   "metadata": {},
   "outputs": [
    {
     "name": "stdout",
     "output_type": "stream",
     "text": [
      "apple\n",
      "banana\n",
      "cherry\n"
     ]
    }
   ],
   "source": [
    "#Bir liste, tuple vb. içinde bir değerler koleksiyonunuz varsa\n",
    "#Python değerleri değişkenlere çıkarmanıza izin verir. \n",
    "#Buna unpacking denir .\n",
    "fruits=[\"apple\",\"banana\",\"cherry\"]#bu bir liste yapısıdır\n",
    "x,y,z=fruits\n",
    "print(x)\n",
    "print(y)\n",
    "print(z)"
   ]
  },
  {
   "cell_type": "code",
   "execution_count": 7,
   "id": "02dc2c3f",
   "metadata": {},
   "outputs": [
    {
     "name": "stdout",
     "output_type": "stream",
     "text": [
      "Hello World\n",
      "HelloWorld\n"
     ]
    }
   ],
   "source": [
    "# yan yana string birleştirirken araya virgül koyarsan default boşluk koyup striblleri birleştirecek\n",
    "#fakat araya + koyarak birleştirirsen araya boşluk koymadan stribgler birleşmiş olur\n",
    "print(\"Hello\",\"World\")\n",
    "print(\"Hello\"+\"World\")"
   ]
  },
  {
   "cell_type": "code",
   "execution_count": 8,
   "id": "cf3cb261",
   "metadata": {},
   "outputs": [
    {
     "name": "stdout",
     "output_type": "stream",
     "text": [
      "Python harika yaa\n"
     ]
    }
   ],
   "source": [
    "#global değişken:fonksiyon dışında oluşturulan değişken\n",
    "x=\"harika yaa\"\n",
    "def myfunc():\n",
    "    print(\"Python \" + x)\n",
    "myfunc()"
   ]
  },
  {
   "cell_type": "code",
   "execution_count": 9,
   "id": "b9518cf1",
   "metadata": {},
   "outputs": [
    {
     "name": "stdout",
     "output_type": "stream",
     "text": [
      "python harika\n",
      "python harika\n"
     ]
    }
   ],
   "source": [
    "x=\"harika\"\n",
    "def myfunc():\n",
    "    x=\"harika\"\n",
    "    print(\"python \" + x)\n",
    "myfunc()\n",
    "\n",
    "print(\"python \" + x)"
   ]
  },
  {
   "cell_type": "code",
   "execution_count": 14,
   "id": "ab34c563",
   "metadata": {},
   "outputs": [
    {
     "name": "stdout",
     "output_type": "stream",
     "text": [
      "python harika\n"
     ]
    }
   ],
   "source": [
    "#Bir fonksiyon içerisinde global değişken oluşturmak için \n",
    "#anahtar kelimesini kullanabilirsiniz :global.\n",
    "def myfunc():\n",
    "    global x\n",
    "    x=\"harika\"\n",
    "    \n",
    "myfunc()\n",
    "\n",
    "print(\"python \" + x)\n",
    "#ANLAMADIM DİĞER TÜRLÜ DE OLUYOR GLOBAL YAZMASAN DA OLUYOR AMAÇ??"
   ]
  },
  {
   "cell_type": "code",
   "execution_count": 15,
   "id": "90005b64",
   "metadata": {},
   "outputs": [
    {
     "name": "stdout",
     "output_type": "stream",
     "text": [
      "python bir harika\n"
     ]
    }
   ],
   "source": [
    "#globalbir fonksiyon içerisinde global bir değişkeni değiştirmek istiyorsanız anahtar kelimeyi\n",
    "#kullanın.\n",
    "x=\"harika yaa\"\n",
    "def myfunc():\n",
    "    global x\n",
    "    x=\"bir harika\"\n",
    "    \n",
    "myfunc()\n",
    "print(\"python \" + x)"
   ]
  },
  {
   "cell_type": "code",
   "execution_count": 4,
   "id": "7398c4e0",
   "metadata": {},
   "outputs": [
    {
     "name": "stdout",
     "output_type": "stream",
     "text": [
      "['banana', 'apple', 'strawberry']\n",
      "('avacado', 'pineapple', 'tomato')\n",
      "['banana', 'apple', 'strawberry', 'orange']\n"
     ]
    }
   ],
   "source": [
    "#list ile tuple ın farkı parantezlerdir\n",
    "#liste listeler:içeriği değiştirilebilir\n",
    "#tuple:içeriği değiştirilemez\n",
    "x=[\"banana\",\"apple\",\"strawberry\"]\n",
    "y=(\"avacado\",\"pineapple\",\"tomato\")\n",
    "print(x)\n",
    "print(y)\n",
    "x.append(\"orange\")\n",
    "print(x)\n",
    "#y.append(\"potato\")  hata verir çünkü tuple lar değiştirilemez\n",
    "#print(y)"
   ]
  },
  {
   "cell_type": "code",
   "execution_count": 6,
   "id": "87d2ed9c",
   "metadata": {},
   "outputs": [
    {
     "name": "stdout",
     "output_type": "stream",
     "text": [
      "range(0, 6)\n"
     ]
    }
   ],
   "source": [
    "x=range(6)\n",
    "print(x)"
   ]
  },
  {
   "cell_type": "code",
   "execution_count": 7,
   "id": "105895c0",
   "metadata": {},
   "outputs": [
    {
     "name": "stdout",
     "output_type": "stream",
     "text": [
      "{'name': 'melike', 'yas': '22'}\n"
     ]
    }
   ],
   "source": [
    "#dict:dictionary:sözlük oluşturmak\n",
    "x={\"name\":\"melike\",\"yas\":\"22\"}\n",
    "print(x)"
   ]
  },
  {
   "cell_type": "code",
   "execution_count": 12,
   "id": "12543eb6",
   "metadata": {},
   "outputs": [
    {
     "name": "stdout",
     "output_type": "stream",
     "text": [
      "{'cherry', 'banana', 'apple'}\n",
      "{'cherry', 'banana', 'apple', 'orange'}\n",
      "{'cherry', 'banana', 'apple', 'orange'}\n"
     ]
    }
   ],
   "source": [
    "#liste ve tuple lardan farklı olarak set ler vardır\n",
    "#set:aynı edeğere sahip aynı elemanlar set içerisinde bulunamaz\n",
    "#sırasızdır,tuple ve liste sıralıdır eklendiği sıraya göre\n",
    "#set değiştirilebilir,liste değiştirilebilir,tuple değiştirilemez\n",
    "fruits={\"apple\",\"banana\",\"cherry\"}\n",
    "print(fruits)\n",
    "#fruits.append(\"orange\")-> setler eklemek için append metodunu değil add metodunu kullanırlar\n",
    "fruits.add(\"orange\")\n",
    "print(fruits)\n",
    "#aynı elemandan ekleyemezsin,elemanlar eşsizdir\n",
    "fruits.add(\"apple\")32.kere eklenemedi\n",
    "print(fruits)"
   ]
  },
  {
   "cell_type": "code",
   "execution_count": 15,
   "id": "aa576de2",
   "metadata": {},
   "outputs": [
    {
     "name": "stdout",
     "output_type": "stream",
     "text": [
      "frozenset({'cherry', 'banana', 'apple'})\n"
     ]
    }
   ],
   "source": [
    "#frozenset:veri yapısı,set in bir çeşididir\n",
    "#frozenset değiştirilemez\n",
    "#normal set\n",
    "normal_set={\"apple\",\"banana\",\"cherry\"}\n",
    "\n",
    "#frozenset\n",
    "frozen=frozenset([\"apple\",\"banana\",\"cherry\"])\n",
    "print(frozen)\n",
    "#frozen.add(\"orange\")->ekleme yapılamaz değiştirilemez"
   ]
  },
  {
   "cell_type": "code",
   "execution_count": 19,
   "id": "cd033adb",
   "metadata": {},
   "outputs": [
    {
     "name": "stdout",
     "output_type": "stream",
     "text": [
      "b'Hello'\n",
      "b'ABC'\n"
     ]
    }
   ],
   "source": [
    "#byte her byte 8 bit uzunluğunda\n",
    "#genellikle dosya okuma/yazma, ağ iletişimi ve düşük seviyeli veri işlemleri \n",
    "#byte nesneleri değiştirilemez\n",
    "#sıralıdır\n",
    "\n",
    "x=b\"Hello\"\n",
    "print(x)\n",
    "b=bytes([65,66,67])\n",
    "print(b)"
   ]
  },
  {
   "cell_type": "code",
   "execution_count": 20,
   "id": "fb841c83",
   "metadata": {},
   "outputs": [
    {
     "name": "stdout",
     "output_type": "stream",
     "text": [
      "b'hello'\n"
     ]
    }
   ],
   "source": [
    "#stringi bytes a çevirme:\n",
    "s=\"hello\"\n",
    "b=s.encode(\"utf-8\")\n",
    "print(b)"
   ]
  },
  {
   "cell_type": "code",
   "execution_count": 23,
   "id": "d51e2692",
   "metadata": {},
   "outputs": [
    {
     "name": "stdout",
     "output_type": "stream",
     "text": [
      "72\n",
      "b'ell'\n"
     ]
    }
   ],
   "source": [
    "#byte ile indeksleme ve dilimleme yapılır\n",
    "b=b\"Hello\"\n",
    "print(b[0])#indeksleme\n",
    "print(b[1:4])#dilimleme yapmış olduk -> 1.indeksenten 4 hariç 4 e kadar"
   ]
  },
  {
   "cell_type": "code",
   "execution_count": 26,
   "id": "ee258529",
   "metadata": {},
   "outputs": [
    {
     "name": "stdout",
     "output_type": "stream",
     "text": [
      "b'Hello'\n"
     ]
    }
   ],
   "source": [
    "#kodlama\n",
    "s=\"Hello\"\n",
    "b=s.encode('utf-8')\n",
    "print(b)"
   ]
  },
  {
   "cell_type": "code",
   "execution_count": 28,
   "id": "696d3f8b",
   "metadata": {},
   "outputs": [
    {
     "name": "stdout",
     "output_type": "stream",
     "text": [
      "Hello\n"
     ]
    }
   ],
   "source": [
    "#dekodlama\n",
    "s_decoded=b.decode('utf-8')\n",
    "print(s_decoded)"
   ]
  },
  {
   "cell_type": "code",
   "execution_count": 31,
   "id": "6c4b9bc9",
   "metadata": {},
   "outputs": [
    {
     "name": "stdout",
     "output_type": "stream",
     "text": [
      "bytearray(b'\\x00\\x00\\x00\\x00\\x00')\n",
      "bytearray(b'\\x00\\x00\\x00\\x00\\x00\\x00')\n"
     ]
    }
   ],
   "source": [
    "#bytes:değiştirilemez\n",
    "#byteaaray:değiştirilebilir\n",
    "x=bytearray(5)\n",
    "print(x)\n",
    "x=bytearray(6)\n",
    "print(x)"
   ]
  },
  {
   "cell_type": "code",
   "execution_count": 35,
   "id": "548f0154",
   "metadata": {},
   "outputs": [
    {
     "name": "stdout",
     "output_type": "stream",
     "text": [
      "72\n",
      "<memory at 0x000002107B84FE80>\n",
      "bytearray(b'Kello,world!')\n"
     ]
    }
   ],
   "source": [
    "#memoryview:verilerin kopyasını oluşturmadan, bir veri nesnesine (örneğin, bytes, bytearray) doğrudan erişim sağlar. Bu, özellikle büyük veri yapılarıyla çalışırken verimli bellek kullanımı ve hızlı veri işlemleri için faydalıdır.\n",
    "data=bytearray(b\"Hello,world!\")\n",
    "view=memoryview(data)\n",
    "\n",
    "print(view[0])#0. indeks h dir ascıı karşılığı 72 dir\n",
    "print(view[:5])#ilk 5 byte ı alır\n",
    "\n",
    "#byte ise değişiklik yapılamaz\n",
    "#bytearray de değişiklik yapılabilir\n",
    "view[0]=75\n",
    "print(data)"
   ]
  },
  {
   "cell_type": "code",
   "execution_count": 41,
   "id": "f019cd0a",
   "metadata": {},
   "outputs": [
    {
     "name": "stdout",
     "output_type": "stream",
     "text": [
      "<memory at 0x000002107B868B80>\n",
      "b'bcd'\n",
      "bytearray(b'axcdef')\n",
      "<memory at 0x000002107B84FE80>\n"
     ]
    }
   ],
   "source": [
    "data=bytearray(b\"abcdef\")\n",
    "view=memoryview(data)\n",
    "\n",
    "subview=view[1:4]\n",
    "print(subview)\n",
    "print(subview.tobytes())\n",
    "#tobytes(): memoryview'i bir bytes nesnesine dönüştürür.\n",
    "#tolist(): memoryview'i bir listeye dönüştürür.\n",
    "#release(): memoryview nesnesini serbest bırakır ve belleği temizler.\n",
    "\n",
    "subview[0]=120#ascii de 120 x demek\n",
    "print(data)\n",
    "\n",
    "x=memoryview(bytes(5))\n",
    "print(x)"
   ]
  },
  {
   "cell_type": "code",
   "execution_count": 43,
   "id": "af6fd325",
   "metadata": {},
   "outputs": [
    {
     "name": "stdout",
     "output_type": "stream",
     "text": [
      "Hello,World!\n",
      "Hello,Melike!\n"
     ]
    }
   ],
   "source": [
    "#none:None Python'da özel bir nesne türüdür ve genellikle \n",
    "#bir değişkenin değerinin olmadığını, boş veya tanımsız olduğunu\n",
    "#belirtmek için kullanılır. \n",
    "\n",
    "def greet(name=None):\n",
    "    if name is None:\n",
    "        return \"Hello,World!\"\n",
    "    return f\"Hello,{name}!\"\n",
    "\n",
    "print(greet())\n",
    "print(greet(\"Melike\"))"
   ]
  },
  {
   "cell_type": "code",
   "execution_count": 4,
   "id": "8f2fca57",
   "metadata": {},
   "outputs": [
    {
     "name": "stdout",
     "output_type": "stream",
     "text": [
      "6\n"
     ]
    }
   ],
   "source": [
    "#pythonda rastgele bir sayı üretmek için:random() modülü kullanılır\n",
    "import random\n",
    "print(random.randrange(1,10))#randrange arlaığı verir"
   ]
  },
  {
   "cell_type": "code",
   "execution_count": 5,
   "id": "818d5eea",
   "metadata": {},
   "outputs": [
    {
     "name": "stdout",
     "output_type": "stream",
     "text": [
      "True\n"
     ]
    }
   ],
   "source": [
    "txt = \"The best things in life are free!\"\n",
    "print(\"free\" in txt)"
   ]
  },
  {
   "cell_type": "code",
   "execution_count": 6,
   "id": "c057d6b1",
   "metadata": {},
   "outputs": [
    {
     "name": "stdout",
     "output_type": "stream",
     "text": [
      "Yes, 'free' is present.\n"
     ]
    }
   ],
   "source": [
    "txt = \"The best things in life are free!\"\n",
    "if \"free\" in txt:\n",
    "  print(\"Yes, 'free' is present.\")"
   ]
  },
  {
   "cell_type": "code",
   "execution_count": 7,
   "id": "2c0f889b",
   "metadata": {},
   "outputs": [
    {
     "name": "stdout",
     "output_type": "stream",
     "text": [
      "True\n"
     ]
    }
   ],
   "source": [
    "txt = \"The best things in life are free!\"\n",
    "print(\"expensive\" not in txt)"
   ]
  },
  {
   "cell_type": "code",
   "execution_count": 10,
   "id": "3422752d",
   "metadata": {},
   "outputs": [
    {
     "name": "stdout",
     "output_type": "stream",
     "text": [
      "orl\n"
     ]
    }
   ],
   "source": [
    "b=\"Hello, World!\"\n",
    "print(b[-5:-2])"
   ]
  },
  {
   "cell_type": "code",
   "execution_count": 15,
   "id": "250d5d09",
   "metadata": {},
   "outputs": [
    {
     "name": "stdout",
     "output_type": "stream",
     "text": [
      " HELLO, WORLD! \n",
      " hello, world! \n",
      "Hello, World!\n"
     ]
    }
   ],
   "source": [
    "a=\" Hello, World! \"\n",
    "print(a.upper())\n",
    "print(a.lower())\n",
    "print(a.strip())#başlangıçtaki veya sondaki boşlukları temizler"
   ]
  },
  {
   "cell_type": "code",
   "execution_count": 16,
   "id": "64910f98",
   "metadata": {},
   "outputs": [
    {
     "name": "stdout",
     "output_type": "stream",
     "text": [
      "mello, World!\n"
     ]
    }
   ],
   "source": [
    "#replace()bir dizeyi başka bir dizeyle değiştirir\n",
    "a=\"Hello, World!\"\n",
    "print(a.replace(\"H\",\"m\"))"
   ]
  },
  {
   "cell_type": "code",
   "execution_count": 17,
   "id": "a79a2ff4",
   "metadata": {},
   "outputs": [
    {
     "name": "stdout",
     "output_type": "stream",
     "text": [
      "['Merhaba ', 'Melike ', 'Hanım']\n"
     ]
    }
   ],
   "source": [
    "#split(), belirtilen ayraç arasındaki metnin liste öğeleri haline geldiği bir liste döndürür.\n",
    "a=\"Merhaba ,Melike ,Hanım\"\n",
    "print(a.split(\",\"))"
   ]
  },
  {
   "cell_type": "code",
   "execution_count": 19,
   "id": "1322e396",
   "metadata": {},
   "outputs": [
    {
     "name": "stdout",
     "output_type": "stream",
     "text": [
      "My Name is Melike,I am {age}\n",
      "My Name is Melike,I am 36\n"
     ]
    }
   ],
   "source": [
    "#format()->f dizeleri diye geçiyor\n",
    "age=36\n",
    "txt=\"My Name is Melike,I am {age}\"\n",
    "\n",
    "print(txt)\n",
    "txt=f\"My Name is Melike,I am {age}\"\n",
    "print(txt)"
   ]
  },
  {
   "cell_type": "code",
   "execution_count": 27,
   "id": "da1caf62",
   "metadata": {},
   "outputs": [
    {
     "name": "stdout",
     "output_type": "stream",
     "text": [
      "{'brand': 'Ford', 'model': 'Mustang', 'year': 1964}\n",
      "Ford\n",
      "3\n"
     ]
    }
   ],
   "source": [
    "#python sözlükleri:sözlükler değiştirilebilir\n",
    "thisdict={\n",
    "    \"brand\":\"Ford\",\n",
    "    \"model\":\"Mustang\",\n",
    "    \"year\":1964,\n",
    "   # \"year\":2000 yinelenen değerler bir önceki değerlerin üstüne yazılır\n",
    "}\n",
    "print(thisdict)\n",
    "print(thisdict[\"brand\"])\n",
    "print(len(thisdict))#sözlüktek, madde sayısını yazdırır"
   ]
  },
  {
   "cell_type": "code",
   "execution_count": 29,
   "id": "3b057505",
   "metadata": {},
   "outputs": [
    {
     "name": "stdout",
     "output_type": "stream",
     "text": [
      "{'brand': 'Ford', 'electric': False, 'year': 1964, 'colors': ['red', 'white', 'blue']}\n"
     ]
    }
   ],
   "source": [
    "thisdict={\n",
    "    \"brand\":\"Ford\",\n",
    "    \"electric\":False,\n",
    "    \"year\":1964,\n",
    "    \"colors\":[\"red\",\"white\",\"blue\"]\n",
    "}\n",
    "print(thisdict)"
   ]
  },
  {
   "cell_type": "code",
   "execution_count": 30,
   "id": "2f27b3f8",
   "metadata": {},
   "outputs": [
    {
     "name": "stdout",
     "output_type": "stream",
     "text": [
      "{'name': 'John', 'age': 36, 'country': 'Norway'}\n"
     ]
    }
   ],
   "source": [
    "#sözlük oluşturmak için dict() metodu kullanılır\n",
    "thisdict=dict(name=\"John\",age=36,country=\"Norway\")\n",
    "print(thisdict)"
   ]
  },
  {
   "cell_type": "code",
   "execution_count": 36,
   "id": "0b6eaf7c",
   "metadata": {},
   "outputs": [
    {
     "name": "stdout",
     "output_type": "stream",
     "text": [
      "Mustang\n",
      "Mustang\n"
     ]
    }
   ],
   "source": [
    "thisdict={\n",
    "    \"brand\":\"Ford\",\n",
    "    \"model\":\"Mustang\",\n",
    "    \"year\":1964\n",
    "}\n",
    "x=thisdict[\"model\"]\n",
    "print(x)\n",
    "\n",
    "#aynısını veren kod:\n",
    "x=thisdict.get(\"model\")\n",
    "print(x)"
   ]
  },
  {
   "cell_type": "code",
   "execution_count": 38,
   "id": "a1aa705b",
   "metadata": {},
   "outputs": [
    {
     "name": "stdout",
     "output_type": "stream",
     "text": [
      "dict_keys(['brand', 'model', 'year'])\n"
     ]
    }
   ],
   "source": [
    "x=thisdict.keys()\n",
    "print(x)"
   ]
  },
  {
   "cell_type": "code",
   "execution_count": 41,
   "id": "211a70a6",
   "metadata": {},
   "outputs": [
    {
     "name": "stdout",
     "output_type": "stream",
     "text": [
      "dict_keys(['brand', 'model', 'year'])\n",
      "dict_keys(['brand', 'model', 'year', 'color'])\n"
     ]
    }
   ],
   "source": [
    "car={\n",
    "    \"brand\":\"Ford\",\n",
    "    \"model\":\"Mustang\",\n",
    "    \"year\":1964\n",
    "}\n",
    "x=car.keys()#bütün anahtarları döndürür\n",
    "print(x)\n",
    "\n",
    "car[\"color\"]=\"white\"#yeni bir dict eklerken bu şekil ekleriz\n",
    "print(x)"
   ]
  },
  {
   "cell_type": "code",
   "execution_count": 42,
   "id": "2307b09d",
   "metadata": {},
   "outputs": [
    {
     "name": "stdout",
     "output_type": "stream",
     "text": [
      "dict_values(['Ford', 'Mustang', 1964])\n"
     ]
    }
   ],
   "source": [
    "x=thisdict.values()#bütün değerleri döndürür\n",
    "print(x)"
   ]
  },
  {
   "cell_type": "code",
   "execution_count": 44,
   "id": "16f06452",
   "metadata": {},
   "outputs": [
    {
     "name": "stdout",
     "output_type": "stream",
     "text": [
      "dict_values(['Ford', 'Mustang', 1964])\n",
      "dict_values(['Ford', 'Mustang', 2020])\n"
     ]
    }
   ],
   "source": [
    "car={\n",
    "    \"brand\":\"Ford\",\n",
    "    \"model\":\"Mustang\",\n",
    "    \"year\":1964\n",
    "}\n",
    "x=car.values()\n",
    "print(x)\n",
    "car[\"year\"]=2020\n",
    "print(x)"
   ]
  },
  {
   "cell_type": "code",
   "execution_count": 46,
   "id": "3c4d9980",
   "metadata": {},
   "outputs": [
    {
     "name": "stdout",
     "output_type": "stream",
     "text": [
      "dict_items([('brand', 'Ford'), ('model', 'Mustang'), ('year', 1964)])\n"
     ]
    }
   ],
   "source": [
    "x=thisdict.items()#bir dict teki her bir ögeyi bir litedeki tuple olarak döndürecek\n",
    "print(x)"
   ]
  },
  {
   "cell_type": "code",
   "execution_count": 47,
   "id": "41d3013a",
   "metadata": {},
   "outputs": [
    {
     "name": "stdout",
     "output_type": "stream",
     "text": [
      "yes,'model' is one of the keys in thisdict dict\n"
     ]
    }
   ],
   "source": [
    "if \"model\" in thisdict:\n",
    "    print(\"yes,'model' is one of the keys in thisdict dict\")"
   ]
  },
  {
   "cell_type": "code",
   "execution_count": 48,
   "id": "528d73a0",
   "metadata": {},
   "outputs": [
    {
     "name": "stdout",
     "output_type": "stream",
     "text": [
      "{'brand': 'Ford', 'model': 'Mustang', 'year': 2020}\n"
     ]
    }
   ],
   "source": [
    "#update() methodu:\n",
    "\n",
    "thisdict={\n",
    "    \"brand\":\"Ford\",\n",
    "    \"model\":\"Mustang\",\n",
    "    \"year\":1964\n",
    "}\n",
    "thisdict.update({\"year\":2020})\n",
    "print(thisdict)"
   ]
  },
  {
   "cell_type": "markdown",
   "id": "c6eab9f2",
   "metadata": {},
   "source": [
    "FİLE HANDLİNG(DOSYA İŞLEMLERİ)"
   ]
  },
  {
   "cell_type": "code",
   "execution_count": 9,
   "id": "0144ad24",
   "metadata": {},
   "outputs": [
    {
     "name": "stdout",
     "output_type": "stream",
     "text": [
      "Hello!Welcome to demofile.txt\n",
      "this file is for testing purposes.good luck!\n"
     ]
    }
   ],
   "source": [
    "f=open(\"ornek_dosya.txt\",'r')\n",
    "print(f.read())"
   ]
  },
  {
   "cell_type": "markdown",
   "id": "460285ee-e105-44a8-b275-82c89406f2f6",
   "metadata": {},
   "source": [
    "Python Fonksiyonlar Döngüler Diziler"
   ]
  },
  {
   "cell_type": "code",
   "execution_count": 15,
   "id": "ed55b53c-c473-4561-ae06-678537aea75c",
   "metadata": {},
   "outputs": [
    {
     "name": "stdout",
     "output_type": "stream",
     "text": [
      "x 5'ten büyüktür\n"
     ]
    }
   ],
   "source": [
    "x = 10\n",
    "if x > 5:\n",
    "    print(\"x 5'ten büyüktür\")\n",
    "elif x == 5:\n",
    "    print(\"x5'e eşittir\")\n",
    "else:\n",
    "    print(\"x 5'ten küçüktür\")"
   ]
  },
  {
   "cell_type": "code",
   "execution_count": 11,
   "id": "67340a3f-48d0-464e-bbc5-6c00b4ab92df",
   "metadata": {},
   "outputs": [
    {
     "name": "stdout",
     "output_type": "stream",
     "text": [
      "1\n",
      "2\n",
      "3\n",
      "4\n",
      "5\n"
     ]
    }
   ],
   "source": [
    "i = 1\n",
    "while i < 6:\n",
    "    print(i)\n",
    "    i += 1"
   ]
  },
  {
   "cell_type": "code",
   "execution_count": 9,
   "id": "5f8c43b0-c3fe-42fc-b5d7-6c352ae18eb9",
   "metadata": {},
   "outputs": [
    {
     "name": "stdout",
     "output_type": "stream",
     "text": [
      "apple\n",
      "banana\n",
      "cherry\n"
     ]
    }
   ],
   "source": [
    "fruits = [\"apple\", \"banana\", \"cherry\"]\n",
    "for fruit in fruits:\n",
    "    print(fruit)"
   ]
  },
  {
   "cell_type": "code",
   "execution_count": 17,
   "id": "dadf41c3-309e-4790-aded-3ae43143d9e0",
   "metadata": {},
   "outputs": [
    {
     "name": "stdout",
     "output_type": "stream",
     "text": [
      "Hello, Melike\n"
     ]
    }
   ],
   "source": [
    "def greet(name):\n",
    "    return \"Hello, \" + name\n",
    "\n",
    "print(greet(\"Melike\"))"
   ]
  },
  {
   "cell_type": "code",
   "execution_count": 19,
   "id": "0e2bb9f3-964f-4916-8a57-ef0566762dfc",
   "metadata": {},
   "outputs": [
    {
     "name": "stdout",
     "output_type": "stream",
     "text": [
      "8\n"
     ]
    }
   ],
   "source": [
    "add = lambda a, b: a + b\n",
    "print(add(5, 3))"
   ]
  },
  {
   "cell_type": "code",
   "execution_count": 23,
   "id": "976ac1de-742e-4dc5-a264-7f448c59dd03",
   "metadata": {},
   "outputs": [
    {
     "name": "stdout",
     "output_type": "stream",
     "text": [
      "[10, 2, 3, 4, 5]\n"
     ]
    }
   ],
   "source": [
    "numbers = [1, 2, 3, 4, 5]\n",
    "numbers[0] = 10 \n",
    "print(numbers)"
   ]
  },
  {
   "cell_type": "code",
   "execution_count": 25,
   "id": "44b96fe8-9272-4676-9c20-f4f37915b4d4",
   "metadata": {},
   "outputs": [
    {
     "name": "stdout",
     "output_type": "stream",
     "text": [
      "1\n",
      "2\n",
      "3\n",
      "4\n"
     ]
    }
   ],
   "source": [
    "i = 1\n",
    "while i < 10:\n",
    "    if i == 5:\n",
    "        break\n",
    "    print(i)\n",
    "    i += 1"
   ]
  },
  {
   "cell_type": "code",
   "execution_count": 29,
   "id": "cd510986-a5e1-43ab-b1cd-362abec0fb65",
   "metadata": {},
   "outputs": [
    {
     "name": "stdout",
     "output_type": "stream",
     "text": [
      "The Tesla Model S is starting...\n"
     ]
    }
   ],
   "source": [
    "class Car:\n",
    "    def __init__(self, brand, model):\n",
    "        self.brand = brand\n",
    "        self.model = model\n",
    "    \n",
    "    def start(self):\n",
    "        print(f\"The {self.brand} {self.model} is starting...\")\n",
    "\n",
    "my_car = Car(\"Tesla\", \"Model S\")\n",
    "my_car.start() \n"
   ]
  },
  {
   "cell_type": "code",
   "execution_count": 33,
   "id": "c2fcfd0d-73d1-4384-ae44-f5f302374591",
   "metadata": {},
   "outputs": [
    {
     "name": "stdout",
     "output_type": "stream",
     "text": [
      "Buddy barks.\n"
     ]
    }
   ],
   "source": [
    "class Animal:\n",
    "    def __init__(self, name):\n",
    "        self.name = name\n",
    "\n",
    "    def make_sound(self):\n",
    "        print(f\"{self.name} makes a sound.\")\n",
    "\n",
    "class Dog(Animal): \n",
    "    def make_sound(self):\n",
    "        print(f\"{self.name} barks.\")\n",
    "\n",
    "my_dog = Dog(\"Buddy\")\n",
    "my_dog.make_sound()  \n"
   ]
  },
  {
   "cell_type": "code",
   "execution_count": 35,
   "id": "5ec56025-d4a9-46f3-87ce-d18b67e4f676",
   "metadata": {},
   "outputs": [
    {
     "name": "stdout",
     "output_type": "stream",
     "text": [
      "1\n",
      "2\n",
      "3\n",
      "4\n",
      "5\n"
     ]
    }
   ],
   "source": [
    "class MyNumbers:\n",
    "    def __init__(self):\n",
    "        self.num = 1\n",
    "\n",
    "    def __iter__(self):\n",
    "        return self\n",
    "\n",
    "    def __next__(self):\n",
    "        if self.num <= 5:\n",
    "            result = self.num\n",
    "            self.num += 1\n",
    "            return result\n",
    "        else:\n",
    "            raise StopIteration\n",
    "\n",
    "my_iter = MyNumbers()\n",
    "for num in my_iter:\n",
    "    print(num)\n"
   ]
  },
  {
   "cell_type": "code",
   "execution_count": 41,
   "id": "c409d237-b70a-4590-8b85-1ddb33e7a841",
   "metadata": {},
   "outputs": [
    {
     "name": "stdout",
     "output_type": "stream",
     "text": [
      "cik cik!\n",
      "miyav!\n"
     ]
    }
   ],
   "source": [
    "class Bird:\n",
    "    def make_sound(self):\n",
    "        print(\"cik cik!\")\n",
    "\n",
    "class Cat:\n",
    "    def make_sound(self):\n",
    "        print(\"miyav!\")\n",
    "\n",
    "# Polymorphic function\n",
    "def animal_sound(animal):\n",
    "    animal.make_sound()\n",
    "\n",
    "bird = Bird()\n",
    "cat = Cat()\n",
    "\n",
    "animal_sound(bird) \n",
    "animal_sound(cat)   \n"
   ]
  },
  {
   "cell_type": "code",
   "execution_count": 65,
   "id": "ab6dedbc-abd7-45d2-97d1-5322cbfdf128",
   "metadata": {},
   "outputs": [
    {
     "name": "stdout",
     "output_type": "stream",
     "text": [
      "Fonksiyonun İçi: local\n",
      "Fonksiyonun Dışı: global\n"
     ]
    }
   ],
   "source": [
    "x = \"global\"\n",
    "\n",
    "def my_func():\n",
    "    x = \"local\"\n",
    "    print(\"Fonksiyonun İçi:\", x)\n",
    "\n",
    "my_func()\n",
    "print(\"Fonksiyonun Dışı:\", x)"
   ]
  },
  {
   "cell_type": "code",
   "execution_count": 69,
   "id": "f2482db0-a839-46a1-9886-fa5dbacd2ded",
   "metadata": {},
   "outputs": [
    {
     "name": "stdout",
     "output_type": "stream",
     "text": [
      "4.0\n"
     ]
    }
   ],
   "source": [
    "# math modülünü kullanarak bir işlem yapalım\n",
    "import math\n",
    "\n",
    "result = math.sqrt(16)\n",
    "print(result) "
   ]
  },
  {
   "cell_type": "code",
   "execution_count": 47,
   "id": "bd1e8093-1013-4a73-ae04-d62a09526c86",
   "metadata": {},
   "outputs": [
    {
     "name": "stdout",
     "output_type": "stream",
     "text": [
      "Current date and time: 2024-09-17 11:07:01.274795\n"
     ]
    }
   ],
   "source": [
    "import datetime\n",
    "\n",
    "current_date = datetime.datetime.now()\n",
    "print(\"Current date and time:\", current_date)"
   ]
  },
  {
   "cell_type": "code",
   "execution_count": 49,
   "id": "47621b20-d40c-487b-add1-e11d31a084a2",
   "metadata": {},
   "outputs": [
    {
     "name": "stdout",
     "output_type": "stream",
     "text": [
      "Pi: 3.141592653589793\n"
     ]
    }
   ],
   "source": [
    "import math\n",
    "\n",
    "# Pi değerini alalım\n",
    "pi_value = math.pi\n",
    "print(\"Pi:\", pi_value)"
   ]
  },
  {
   "cell_type": "code",
   "execution_count": 67,
   "id": "8318526e-3a89-4e2e-a80b-9f9cb5c36ed8",
   "metadata": {},
   "outputs": [
    {
     "name": "stdout",
     "output_type": "stream",
     "text": [
      "Melike\n"
     ]
    }
   ],
   "source": [
    "import json\n",
    "\n",
    "data = '{\"name\": \"Melike\", \"age\": 22}'\n",
    "parsed_data = json.loads(data)\n",
    "print(parsed_data[\"name\"])"
   ]
  },
  {
   "cell_type": "code",
   "execution_count": 53,
   "id": "3199184d-2d97-4b95-b612-03b2a09eb354",
   "metadata": {},
   "outputs": [
    {
     "name": "stdout",
     "output_type": "stream",
     "text": [
      "12345\n"
     ]
    }
   ],
   "source": [
    "import re\n",
    "\n",
    "text = \"Hello, my number is 12345.\"\n",
    "pattern = r\"\\d+\"\n",
    "\n",
    "result = re.search(pattern, text)\n",
    "print(result.group())  # 12345"
   ]
  },
  {
   "cell_type": "code",
   "execution_count": 55,
   "id": "36b6b52a-b427-4ece-a4b5-1da59b5aede6",
   "metadata": {},
   "outputs": [
    {
     "name": "stdout",
     "output_type": "stream",
     "text": [
      "Requirement already satisfied: requests in c:\\users\\lenovo\\anaconda3\\lib\\site-packages (2.32.2)\n",
      "Requirement already satisfied: charset-normalizer<4,>=2 in c:\\users\\lenovo\\anaconda3\\lib\\site-packages (from requests) (2.0.4)\n",
      "Requirement already satisfied: idna<4,>=2.5 in c:\\users\\lenovo\\anaconda3\\lib\\site-packages (from requests) (3.7)\n",
      "Requirement already satisfied: urllib3<3,>=1.21.1 in c:\\users\\lenovo\\anaconda3\\lib\\site-packages (from requests) (2.2.2)\n",
      "Requirement already satisfied: certifi>=2017.4.17 in c:\\users\\lenovo\\anaconda3\\lib\\site-packages (from requests) (2024.7.4)\n",
      "Note: you may need to restart the kernel to use updated packages.\n"
     ]
    }
   ],
   "source": [
    "pip install requests"
   ]
  },
  {
   "cell_type": "code",
   "execution_count": 56,
   "id": "23cd2722-5e77-4106-9b93-62ac4cd52b5d",
   "metadata": {},
   "outputs": [
    {
     "name": "stdout",
     "output_type": "stream",
     "text": [
      "Division by zero is not allowed.\n",
      "This will always be executed.\n"
     ]
    }
   ],
   "source": [
    "try:\n",
    "    result = 10 / 0\n",
    "except ZeroDivisionError:\n",
    "    print(\"Division by zero is not allowed.\")\n",
    "finally:\n",
    "    print(\"This will always be executed.\")"
   ]
  },
  {
   "cell_type": "code",
   "execution_count": 59,
   "id": "f1d72b1c-6440-4d07-a2cb-96979165aa8f",
   "metadata": {},
   "outputs": [
    {
     "name": "stdin",
     "output_type": "stream",
     "text": [
      "Enter your name:  Melike\n"
     ]
    },
    {
     "name": "stdout",
     "output_type": "stream",
     "text": [
      "Hello, Melike!\n"
     ]
    }
   ],
   "source": [
    "name = input(\"Enter your name: \")\n",
    "print(f\"Hello, {name}!\")"
   ]
  },
  {
   "cell_type": "code",
   "execution_count": 61,
   "id": "104c972c-729d-4db1-a225-a33923278087",
   "metadata": {},
   "outputs": [
    {
     "name": "stdout",
     "output_type": "stream",
     "text": [
      "My name is Melike and I am 22 years old.\n"
     ]
    }
   ],
   "source": [
    "age = 22\n",
    "name = \"Melike\"\n",
    "print(f\"My name is {name} and I am {age} years old.\")\n"
   ]
  },
  {
   "cell_type": "code",
   "execution_count": 102,
   "id": "7ad93de9-5e23-48c0-9dcd-3e89a4f7891b",
   "metadata": {},
   "outputs": [
    {
     "name": "stdout",
     "output_type": "stream",
     "text": [
      "Merhaba ben Melike\n",
      "Suan file handling calisiyorum\n"
     ]
    }
   ],
   "source": [
    "# Dosya açma ve okuma\n",
    "with open('C:\\\\Users\\\\Lenovo\\\\Desktop\\\\merhaba.txt', 'r') as file:\n",
    "    content = file.read()\n",
    "    print(content)"
   ]
  },
  {
   "cell_type": "code",
   "execution_count": 104,
   "id": "0910694b-5791-47b4-affd-cb0b63e76564",
   "metadata": {},
   "outputs": [
    {
     "name": "stdout",
     "output_type": "stream",
     "text": [
      "Merhaba ben Melike\n",
      "Suan file handling calisiyorum\n"
     ]
    }
   ],
   "source": [
    "# Satır satır okuma\n",
    "with open('C:\\\\Users\\\\Lenovo\\\\Desktop\\\\merhaba.txt', 'r') as file:\n",
    "    for line in file:\n",
    "        print(line.strip())"
   ]
  },
  {
   "cell_type": "code",
   "execution_count": 106,
   "id": "9b73bd10-ae73-4ea2-954b-c19ba8978bc3",
   "metadata": {},
   "outputs": [],
   "source": [
    "# Dosyaya yazma\n",
    "with open('C:\\\\Users\\\\Lenovo\\\\Desktop\\\\merhaba.txt', 'w') as file:\n",
    "    file.write(\"Hello, this is a new line of text.\")"
   ]
  },
  {
   "cell_type": "code",
   "execution_count": 116,
   "id": "5e1106a9-51b1-42d4-8059-45a9927de36f",
   "metadata": {},
   "outputs": [],
   "source": [
    "# Dosya oluşturma\n",
    "with open('C:\\\\Users\\\\Lenovo\\\\Desktop\\\\new_file.txt', 'x') as file:\n",
    "    file.write(\"This is a new file created with Python.\")"
   ]
  },
  {
   "cell_type": "code",
   "execution_count": 110,
   "id": "0b1d30f0-83ab-47dd-8c61-86e8585bd958",
   "metadata": {},
   "outputs": [
    {
     "name": "stdout",
     "output_type": "stream",
     "text": [
      "File deleted.\n"
     ]
    }
   ],
   "source": [
    "import os\n",
    "\n",
    "# Dosya silme\n",
    "if os.path.exists('C:\\\\Users\\\\Lenovo\\\\Desktop\\\\new_file.txt'):\n",
    "    os.remove('C:\\\\Users\\\\Lenovo\\\\Desktop\\\\new_file.txt')\n",
    "    print(\"File deleted.\")\n",
    "else:\n",
    "    print(\"The file does not exist.\")"
   ]
  },
  {
   "cell_type": "code",
   "execution_count": null,
   "id": "e53a1e0d-983e-403d-ac08-3f27b2014b59",
   "metadata": {},
   "outputs": [],
   "source": []
  }
 ],
 "metadata": {
  "kernelspec": {
   "display_name": "Python 3 (ipykernel)",
   "language": "python",
   "name": "python3"
  },
  "language_info": {
   "codemirror_mode": {
    "name": "ipython",
    "version": 3
   },
   "file_extension": ".py",
   "mimetype": "text/x-python",
   "name": "python",
   "nbconvert_exporter": "python",
   "pygments_lexer": "ipython3",
   "version": "3.12.4"
  }
 },
 "nbformat": 4,
 "nbformat_minor": 5
}
